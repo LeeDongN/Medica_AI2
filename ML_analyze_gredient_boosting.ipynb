{
  "nbformat": 4,
  "nbformat_minor": 0,
  "metadata": {
    "colab": {
      "provenance": [],
      "authorship_tag": "ABX9TyP15fxPO9jYv926SHImVOUN",
      "include_colab_link": true
    },
    "kernelspec": {
      "name": "python3",
      "display_name": "Python 3"
    },
    "language_info": {
      "name": "python"
    }
  },
  "cells": [
    {
      "cell_type": "markdown",
      "metadata": {
        "id": "view-in-github",
        "colab_type": "text"
      },
      "source": [
        "<a href=\"https://colab.research.google.com/github/LeeDongN/Medica_AI2/blob/main/ML_analyze_gredient_boosting.ipynb\" target=\"_parent\"><img src=\"https://colab.research.google.com/assets/colab-badge.svg\" alt=\"Open In Colab\"/></a>"
      ]
    },
    {
      "cell_type": "code",
      "execution_count": 1,
      "metadata": {
        "colab": {
          "base_uri": "https://localhost:8080/"
        },
        "id": "YM5xcdgyT6a4",
        "outputId": "cd748dd0-1b24-4db0-83ca-c1af618ffb4a"
      },
      "outputs": [
        {
          "output_type": "stream",
          "name": "stdout",
          "text": [
            "Mounted at /content/drive\n"
          ]
        }
      ],
      "source": [
        "%matplotlib inline\n",
        "import numpy as np\n",
        "import pandas as pd\n",
        "import scipy as sp\n",
        "from matplotlib import pyplot as plt\n",
        "from xgboost import plot_tree\n",
        "import os\n",
        "import sklearn\n",
        "from google.colab import drive\n",
        "from scipy.signal import find_peaks\n",
        "import xgboost as xgb\n",
        "from sklearn.model_selection import train_test_split\n",
        "from sklearn.metrics import classification_report, accuracy_score\n",
        "\n",
        "drive.mount('/content/drive')\n",
        "path = '/content/drive/My Drive/data/'\n",
        "data = np.load(\"/content/drive/MyDrive/extracted_data/new_data_5.npy\")\n",
        "label = np.load(\"/content/drive/MyDrive/extracted_data/new_label_5.npy\")"
      ]
    },
    {
      "cell_type": "markdown",
      "source": [
        "# The best model (gredient boosting)"
      ],
      "metadata": {
        "id": "2daQPdqMVV6W"
      }
    },
    {
      "cell_type": "code",
      "source": [
        "from sklearn.ensemble import GradientBoostingClassifier\n",
        "from imblearn.over_sampling import SMOTE\n",
        "from sklearn.metrics import accuracy_score, confusion_matrix\n",
        "\n",
        "# Apply ADASYN oversampling to the entire dataset\n",
        "X_resampled_adasyn, y_resampled_adasyn = SMOTE().fit_resample(data, label)\n",
        "\n",
        "# Split the ADASYN oversampled data into training and testing sets\n",
        "X_train_adasyn, X_test_adasyn, y_train_adasyn, y_test_adasyn = train_test_split(X_resampled_adasyn, y_resampled_adasyn, test_size=0.2, random_state=42)\n",
        "\n",
        "# Initialize Gradient Boosting classifier\n",
        "gbm_classifier = GradientBoostingClassifier(random_state=42)\n",
        "\n",
        "# Train the Gradient Boosting classifier with ADASYN oversampled data\n",
        "gbm_classifier.fit(X_train_adasyn, y_train_adasyn)\n",
        "\n",
        "# Evaluate the Gradient Boosting classifier with ADASYN oversampled test data\n",
        "y_pred_adasyn_gbm = gbm_classifier.predict(X_test_adasyn)\n",
        "accuracy_adasyn_gbm = accuracy_score(y_test_adasyn, y_pred_adasyn_gbm)\n",
        "print(\"Gradient Boosting Classifier:\")\n",
        "print(\"Overall Accuracy :\", accuracy_adasyn_gbm)\n",
        "\n",
        "# Calculate the confusion matrix with ADASYN oversampled test data\n",
        "conf_matrix_adasyn_gbm = confusion_matrix(y_test_adasyn, y_pred_adasyn_gbm)\n",
        "#print(\"Confusion Matrix with ADASYN and Gradient Boosting:\")\n",
        "#print(conf_matrix_adasyn_gbm)\n",
        "\n",
        "# Calculate accuracy for each class\n",
        "class_accuracy_adasyn_gbm = conf_matrix_adasyn_gbm.diagonal() / conf_matrix_adasyn_gbm.sum(axis=1)\n",
        "\n",
        "for i, acc in enumerate(class_accuracy_adasyn_gbm):\n",
        "    print(f\"Accuracy for class {i}: {acc:.2f}\")"
      ],
      "metadata": {
        "colab": {
          "base_uri": "https://localhost:8080/"
        },
        "id": "aojzPV9CUO8t",
        "outputId": "5ae76fa8-d95e-40b0-a5f7-7ba9107e0e95"
      },
      "execution_count": 5,
      "outputs": [
        {
          "output_type": "stream",
          "name": "stdout",
          "text": [
            "Gradient Boosting Classifier:\n",
            "Overall Accuracy : 0.9930555555555556\n",
            "Accuracy for class 0: 1.00\n",
            "Accuracy for class 1: 1.00\n",
            "Accuracy for class 2: 1.00\n",
            "Accuracy for class 3: 1.00\n",
            "Accuracy for class 4: 0.97\n"
          ]
        }
      ]
    },
    {
      "cell_type": "code",
      "source": [],
      "metadata": {
        "id": "R-mRnCd6Upib"
      },
      "execution_count": null,
      "outputs": []
    }
  ]
}
{
  "nbformat": 4,
  "nbformat_minor": 0,
  "metadata": {
    "colab": {
      "provenance": []
    },
    "kernelspec": {
      "name": "python3",
      "display_name": "Python 3"
    },
    "language_info": {
      "name": "python"
    }
  },
  "cells": [
    {
      "cell_type": "code",
      "execution_count": 38,
      "metadata": {
        "colab": {
          "base_uri": "https://localhost:8080/"
        },
        "id": "lheyWCzEuoWz",
        "outputId": "3a336b85-de9c-4000-b022-41a4e4114c61"
      },
      "outputs": [
        {
          "output_type": "stream",
          "name": "stdout",
          "text": [
            "Drive already mounted at /content/drive; to attempt to forcibly remount, call drive.mount(\"/content/drive\", force_remount=True).\n"
          ]
        }
      ],
      "source": [
        "import numpy as np\n",
        "import pandas as pd\n",
        "import scipy as sp\n",
        "from matplotlib import pyplot as plt\n",
        "import os\n",
        "import sklearn\n",
        "from google.colab import drive\n",
        "from scipy.signal import find_peaks\n",
        "import xgboost as xgb\n",
        "from sklearn.model_selection import train_test_split\n",
        "from sklearn.metrics import classification_report, accuracy_score\n",
        "\n",
        "drive.mount('/content/drive')\n",
        "path = '/content/drive/My Drive/data/'\n",
        "data = np.load(\"/content/drive/MyDrive/extracted_data/data.npy\")\n",
        "label = np.load(\"/content/drive/MyDrive/extracted_data/label.npy\")\n",
        "\n",
        "balanced_data = np.load(\"/content/drive/MyDrive/extracted_data/balanced_data.npy\")\n",
        "balanced_label = np.load(\"/content/drive/MyDrive/extracted_data/balanced_label.npy\")"
      ]
    },
    {
      "cell_type": "markdown",
      "source": [
        "# data analays"
      ],
      "metadata": {
        "id": "yV-lUyA2wVF6"
      }
    },
    {
      "cell_type": "code",
      "source": [
        "label_count = np.count_nonzero(label == 0)\n",
        "print(len(label))\n",
        "print(label_count)\n",
        "print(label_count/len(label)*100)\n",
        "\n",
        "print ('-----------------------')\n",
        "\n",
        "balanced_label_count = np.count_nonzero(balanced_label == 0)\n",
        "print(len(balanced_label))\n",
        "print(balanced_label_count)\n",
        "print(balanced_label_count/len(balanced_label)*100)"
      ],
      "metadata": {
        "colab": {
          "base_uri": "https://localhost:8080/"
        },
        "id": "k_htf7zmwb0Z",
        "outputId": "9dbd4876-5ceb-4097-ad85-9f0f99ddcb6d"
      },
      "execution_count": 39,
      "outputs": [
        {
          "output_type": "stream",
          "name": "stdout",
          "text": [
            "251\n",
            "11\n",
            "4.382470119521913\n",
            "-----------------------\n",
            "720\n",
            "144\n",
            "20.0\n"
          ]
        }
      ]
    },
    {
      "cell_type": "markdown",
      "source": [
        "# XGboost"
      ],
      "metadata": {
        "id": "C-7apMeeu7OD"
      }
    },
    {
      "cell_type": "code",
      "source": [
        "#train 변수 나누기\n",
        "X_train, X_test, y_train, y_test= train_test_split(data, label,test_size=0.3, random_state=123)\n",
        "xg_cl = xgb.XGBClassifier(objective='binary:logistic',n_estimators=20, seed=123)\n",
        "xg_cl.fit(X_train, y_train)\n",
        "#예측하기\n",
        "preds = xg_cl.predict(X_test)\n",
        "#정확도\n",
        "accuracy = float(np.sum(preds==y_test))/y_test.shape[0]\n",
        "print(\"Accuracy original: %f\" % (accuracy))\n",
        "print('--------------------------------')\n",
        "\n",
        "\n",
        "#train 변수 나누기\n",
        "balanced_X_train, balanced_X_test, balanced_y_train, balanced_y_test= train_test_split(balanced_data, balanced_label,test_size=0.3, random_state=123)\n",
        "xg_cl = xgb.XGBClassifier(objective='binary:logistic',n_estimators=20, seed=123)\n",
        "xg_cl.fit(balanced_X_train, balanced_y_train)\n",
        "#예측하기\n",
        "preds = xg_cl.predict(balanced_X_test)\n",
        "#정확도\n",
        "accuracy = float(np.sum(preds==balanced_y_test))/balanced_y_test.shape[0]\n",
        "print(\"Accuracy after balance: %f\" % (accuracy))"
      ],
      "metadata": {
        "colab": {
          "base_uri": "https://localhost:8080/"
        },
        "id": "aDeInbIRu7Af",
        "outputId": "a38f0d0c-c7ca-48c8-db8e-a1797646c3ca"
      },
      "execution_count": 41,
      "outputs": [
        {
          "output_type": "stream",
          "name": "stdout",
          "text": [
            "Accuracy original: 0.894737\n",
            "--------------------------------\n",
            "Accuracy after balance: 0.981481\n"
          ]
        }
      ]
    }
  ]
}
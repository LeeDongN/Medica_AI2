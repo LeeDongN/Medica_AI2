{
  "nbformat": 4,
  "nbformat_minor": 0,
  "metadata": {
    "colab": {
      "provenance": [],
      "collapsed_sections": [
        "DVTmccplTjji"
      ],
      "authorship_tag": "ABX9TyPlix1Uj3gufYN0k4C+tyoT",
      "include_colab_link": true
    },
    "kernelspec": {
      "name": "python3",
      "display_name": "Python 3"
    },
    "language_info": {
      "name": "python"
    }
  },
  "cells": [
    {
      "cell_type": "markdown",
      "metadata": {
        "id": "view-in-github",
        "colab_type": "text"
      },
      "source": [
        "<a href=\"https://colab.research.google.com/github/LeeDongN/Medica_AI2/blob/main/import_as_np.ipynb\" target=\"_parent\"><img src=\"https://colab.research.google.com/assets/colab-badge.svg\" alt=\"Open In Colab\"/></a>"
      ]
    },
    {
      "cell_type": "code",
      "execution_count": 1,
      "metadata": {
        "id": "4CmlDwMjjj9G",
        "colab": {
          "base_uri": "https://localhost:8080/"
        },
        "outputId": "60fc7782-d214-4a47-c9a5-089da33779a8"
      },
      "outputs": [
        {
          "output_type": "stream",
          "name": "stdout",
          "text": [
            "Mounted at /content/drive\n"
          ]
        }
      ],
      "source": [
        "import numpy as np\n",
        "import pandas as pd\n",
        "import scipy as sp\n",
        "from matplotlib import pyplot as plt\n",
        "import os\n",
        "import sklearn\n",
        "from google.colab import drive\n",
        "drive.mount('/content/drive')"
      ]
    },
    {
      "cell_type": "markdown",
      "source": [
        "# Temp"
      ],
      "metadata": {
        "id": "DVTmccplTjji"
      }
    },
    {
      "cell_type": "code",
      "source": [
        "path = '/content/drive/My Drive/data/'\n",
        "folder_list = os.listdir(path)\n",
        "#import the first_data\n",
        "global first_data\n",
        "first_data = []\n",
        "first_data = pd.read_csv('/content/drive/My Drive/data2/REF.CSV', skiprows=24)\n",
        "first_data_origin = pd.read_csv('/content/drive/My Drive/data2/REF.CSV', skiprows=24)\n",
        "first_a = float(first_data_origin.columns[0])\n",
        "first_b = float(first_data_origin.columns[1])\n",
        "first_data.loc[0] = [a, b]\n",
        "first_data.columns=['Wave_length', 'Amplitude']\n",
        "first_data['label']=1.3\n",
        "\n",
        "\n",
        "# extract each folder name\n",
        "for folder_name in folder_list:\n",
        "  D_class = folder_name\n",
        "  temp_folder_list = os.listdir(path + D_class)\n",
        "\n",
        "  # extract each file name\n",
        "  for file_name in temp_folder_list:\n",
        "    lable = 0.0\n",
        "    # Read the data into a Pandas DataFrame\n",
        "    data = pd.read_csv(path + D_class + '/' + file_name, skiprows=24)\n",
        "    data_origin = pd.read_csv(path + D_class + '/' + file_name, skiprows=24)\n",
        "    # generate columns name and restore the removed data(the first data)\n",
        "    a = float(data_origin.columns[0])\n",
        "    b = float(data_origin.columns[1])\n",
        "    data.loc[0] = [a, b]\n",
        "    data.columns=['Wave_length', 'Amplitude']\n",
        "\n",
        "    # label append\n",
        "    label = float(D_class)\n",
        "    data['label'] = label\n",
        "    # append whole data\n",
        "    first_data = first_data.append(data, ignore_index=True)"
      ],
      "metadata": {
        "id": "et_6VGi6hAZ1"
      },
      "execution_count": null,
      "outputs": []
    },
    {
      "cell_type": "markdown",
      "source": [
        "# first data import"
      ],
      "metadata": {
        "id": "zGU4y9BXQX1G"
      }
    },
    {
      "cell_type": "code",
      "source": [
        "path = '/content/drive/My Drive/data/'\n",
        "folder_list = os.listdir(path)\n",
        "# import the first_data\n",
        "# first_data making\n",
        "first_data = []\n",
        "first_data = pd.read_csv('/content/drive/My Drive/data2/REF.CSV', skiprows=24)\n",
        "first_data_origin = pd.read_csv('/content/drive/My Drive/data2/REF.CSV', skiprows=24)\n",
        "first_a = float(first_data_origin.columns[0])\n",
        "first_b = float(first_data_origin.columns[1])\n",
        "first_data.loc[0] = [first_a, first_b]\n",
        "first_data.columns=['Wave_length', 'Amplitude']\n",
        "first_data['label']=1.3\n",
        "first_np = first_data[['Wave_length', 'Amplitude']].to_numpy()\n",
        "first_np = np.ravel(first_np, order='F')\n",
        "first_np = np.array([first_np])"
      ],
      "metadata": {
        "id": "upWEq9PEAww5"
      },
      "execution_count": 2,
      "outputs": []
    },
    {
      "cell_type": "markdown",
      "source": [
        "# stack the other data"
      ],
      "metadata": {
        "id": "WczRvhn6Qdeq"
      }
    },
    {
      "cell_type": "code",
      "source": [
        "def stack_data(path):\n",
        "  stack_np = np.array([[]])\n",
        "  # extract the folder name (it will be the label)\n",
        "  folder_list = os.listdir(path)\n",
        "  # extract each folder name\n",
        "  for folder_name in folder_list:\n",
        "    temp_folder_list = os.listdir(path + folder_name)\n",
        "    # extract each file name\n",
        "    for file_name in temp_folder_list:\n",
        "      # Read the data into a Pandas DataFrame\n",
        "      data = pd.read_csv(path + folder_name + '/' + file_name, skiprows=24)\n",
        "      data_origin = pd.read_csv(path + folder_name + '/' + file_name, skiprows=24)\n",
        "      # generate columns name and restore the removed data(the first data)\n",
        "      a = float(data_origin.columns[0])\n",
        "      b = float(data_origin.columns[1])\n",
        "      data.loc[0] = [a, b]\n",
        "      data.columns=['Wave_length', 'Amplitude']\n",
        "      # make the pandas data to numpy\n",
        "      temp = data[['Wave_length', 'Amplitude']].to_numpy()\n",
        "      # make it flat\n",
        "      temp = np.ravel(temp, order='F')\n",
        "      temp = np.array([temp])\n",
        "      stack_np = np.concatenate((first_np, temp), axis = 1)\n",
        "  return stack_np"
      ],
      "metadata": {
        "id": "YuVeX1GIBMOh"
      },
      "execution_count": 146,
      "outputs": []
    },
    {
      "cell_type": "code",
      "source": [
        "stack_data ="
      ],
      "metadata": {
        "id": "spTOdOatVeo5"
      },
      "execution_count": null,
      "outputs": []
    },
    {
      "cell_type": "markdown",
      "source": [
        "# label"
      ],
      "metadata": {
        "id": "EAoxSWGfR7xE"
      }
    },
    {
      "cell_type": "code",
      "source": [
        "first_np[0]"
      ],
      "metadata": {
        "colab": {
          "base_uri": "https://localhost:8080/"
        },
        "id": "e6RFokihDCQS",
        "outputId": "476bff1b-a619-42bc-a694-1506d0d51c52"
      },
      "execution_count": 145,
      "outputs": [
        {
          "output_type": "execute_result",
          "data": {
            "text/plain": [
              "array([1.4750000e+03, 1.4750397e+03, 1.4750595e+03, ..., 1.3470000e-06,\n",
              "       1.2690000e-06, 1.4060000e-06])"
            ]
          },
          "metadata": {},
          "execution_count": 145
        }
      ]
    }
  ]
}
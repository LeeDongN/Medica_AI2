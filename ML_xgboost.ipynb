{
  "nbformat": 4,
  "nbformat_minor": 0,
  "metadata": {
    "colab": {
      "provenance": [],
      "authorship_tag": "ABX9TyP+UElMg3lOBvym8Z2BmV+Q",
      "include_colab_link": true
    },
    "kernelspec": {
      "name": "python3",
      "display_name": "Python 3"
    },
    "language_info": {
      "name": "python"
    }
  },
  "cells": [
    {
      "cell_type": "markdown",
      "metadata": {
        "id": "view-in-github",
        "colab_type": "text"
      },
      "source": [
        "<a href=\"https://colab.research.google.com/github/LeeDongN/Medica_AI2/blob/main/ML_xgboost.ipynb\" target=\"_parent\"><img src=\"https://colab.research.google.com/assets/colab-badge.svg\" alt=\"Open In Colab\"/></a>"
      ]
    },
    {
      "cell_type": "code",
      "execution_count": 3,
      "metadata": {
        "colab": {
          "base_uri": "https://localhost:8080/"
        },
        "id": "lheyWCzEuoWz",
        "outputId": "72a86950-ac40-4dc5-c046-06023edf18f0"
      },
      "outputs": [
        {
          "output_type": "stream",
          "name": "stdout",
          "text": [
            "Drive already mounted at /content/drive; to attempt to forcibly remount, call drive.mount(\"/content/drive\", force_remount=True).\n"
          ]
        }
      ],
      "source": [
        "import numpy as np\n",
        "import pandas as pd\n",
        "import scipy as sp\n",
        "from matplotlib import pyplot as plt\n",
        "import os\n",
        "import sklearn\n",
        "from google.colab import drive\n",
        "from scipy.signal import find_peaks\n",
        "import xgboost as xgb\n",
        "from sklearn.model_selection import train_test_split\n",
        "from sklearn.metrics import classification_report, accuracy_score\n",
        "\n",
        "drive.mount('/content/drive')\n",
        "path = '/content/drive/My Drive/data/'\n",
        "data = np.load(\"/content/drive/MyDrive/extracted_data/data.npy\")\n",
        "label = np.load(\"/content/drive/MyDrive/extracted_data/label.npy\")"
      ]
    },
    {
      "cell_type": "markdown",
      "source": [
        "# data analays"
      ],
      "metadata": {
        "id": "yV-lUyA2wVF6"
      }
    },
    {
      "cell_type": "code",
      "source": [
        "label_count = np.count_nonzero(label == 0)\n",
        "print(len(label))\n",
        "print(label_count)\n",
        "print(label_count/len(label)*100)"
      ],
      "metadata": {
        "colab": {
          "base_uri": "https://localhost:8080/"
        },
        "id": "k_htf7zmwb0Z",
        "outputId": "0a5a2afe-8258-4767-fd18-538e959ea5e9"
      },
      "execution_count": 9,
      "outputs": [
        {
          "output_type": "stream",
          "name": "stdout",
          "text": [
            "251\n",
            "83\n",
            "33.067729083665334\n"
          ]
        }
      ]
    },
    {
      "cell_type": "markdown",
      "source": [
        "# XGboost"
      ],
      "metadata": {
        "id": "C-7apMeeu7OD"
      }
    },
    {
      "cell_type": "code",
      "source": [
        "#train 변수 나누기\n",
        "X_train, X_test, y_train, y_test= train_test_split(data, label,test_size=0.3, random_state=123)\n",
        "xg_cl = xgb.XGBClassifier(objective='binary:logistic',n_estimators=20, seed=123)\n",
        "xg_cl.fit(X_train, y_train)\n",
        "#예측하기\n",
        "preds = xg_cl.predict(X_test)\n",
        "#정확도\n",
        "accuracy = float(np.sum(preds==y_test))/y_test.shape[0]\n",
        "print(\"accuracy: %f\" % (accuracy))"
      ],
      "metadata": {
        "colab": {
          "base_uri": "https://localhost:8080/"
        },
        "id": "aDeInbIRu7Af",
        "outputId": "4859248a-7b29-41cf-8f6e-801b288d2ff6"
      },
      "execution_count": 5,
      "outputs": [
        {
          "output_type": "stream",
          "name": "stdout",
          "text": [
            "accuracy: 0.934211\n"
          ]
        }
      ]
    }
  ]
}
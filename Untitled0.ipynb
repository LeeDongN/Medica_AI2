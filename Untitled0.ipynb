{
  "nbformat": 4,
  "nbformat_minor": 0,
  "metadata": {
    "colab": {
      "provenance": [],
      "authorship_tag": "ABX9TyMhTV8DPRNUE4eRfwCtGBsA",
      "include_colab_link": true
    },
    "kernelspec": {
      "name": "python3",
      "display_name": "Python 3"
    },
    "language_info": {
      "name": "python"
    }
  },
  "cells": [
    {
      "cell_type": "markdown",
      "metadata": {
        "id": "view-in-github",
        "colab_type": "text"
      },
      "source": [
        "<a href=\"https://colab.research.google.com/github/LeeDongN/Medica_AI2/blob/main/Untitled0.ipynb\" target=\"_parent\"><img src=\"https://colab.research.google.com/assets/colab-badge.svg\" alt=\"Open In Colab\"/></a>"
      ]
    },
    {
      "cell_type": "code",
      "execution_count": 68,
      "metadata": {
        "id": "4CmlDwMjjj9G"
      },
      "outputs": [],
      "source": [
        "import numpy as np\n",
        "import pandas as pd\n",
        "import scipy as sp\n",
        "from matplotlib import pyplot as plt"
      ]
    },
    {
      "cell_type": "code",
      "source": [
        "from google.colab import drive\n",
        "drive.mount('/content/drive')\n",
        "\n",
        "# Get the file from your Google Drive\n",
        "data_path = '/content/drive/My Drive/data/W0000.CSV'\n",
        "\n",
        "# Read the data into a Pandas DataFrame\n",
        "data = pd.read_csv('/content/drive/My Drive/data/W0000.CSV', skiprows=24)\n",
        "data_origin = pd.read_csv('/content/drive/My Drive/data/W0000.CSV', skiprows=24)\n",
        "a = float(data_origin.columns[0])\n",
        "b = float(data_origin.columns[1])\n",
        "data.loc[0] = [a, b]\n"
      ],
      "metadata": {
        "id": "Q6F7JxHSnvE-",
        "colab": {
          "base_uri": "https://localhost:8080/"
        },
        "outputId": "63ec3647-7564-4ae7-8c8f-99cacb3dba0e"
      },
      "execution_count": 88,
      "outputs": [
        {
          "output_type": "stream",
          "name": "stdout",
          "text": [
            "Drive already mounted at /content/drive; to attempt to forcibly remount, call drive.mount(\"/content/drive\", force_remount=True).\n"
          ]
        }
      ]
    },
    {
      "cell_type": "code",
      "source": [
        "a = float(data_origin.columns[0])"
      ],
      "metadata": {
        "id": "czu_0-5BARy5"
      },
      "execution_count": 87,
      "outputs": []
    },
    {
      "cell_type": "code",
      "source": [
        "data.columns=['X', 'Y']\n",
        "print(data)"
      ],
      "metadata": {
        "colab": {
          "base_uri": "https://localhost:8080/"
        },
        "id": "3ky6yGk-3D-E",
        "outputId": "f610094f-515f-4f07-b52f-f6e9647cb680"
      },
      "execution_count": 89,
      "outputs": [
        {
          "output_type": "stream",
          "name": "stdout",
          "text": [
            "              X             Y\n",
            "0     1475.0000  7.976000e-07\n",
            "1     1475.0397  5.796000e-07\n",
            "2     1475.0595  1.106000e-06\n",
            "3     1475.0794  6.473000e-07\n",
            "4     1475.0992  3.119000e-07\n",
            "...         ...           ...\n",
            "6295  1599.9206  6.443000e-07\n",
            "6296  1599.9405  8.647000e-07\n",
            "6297  1599.9603  9.092000e-07\n",
            "6298  1599.9802  7.652000e-07\n",
            "6299  1600.0000  6.929000e-07\n",
            "\n",
            "[6300 rows x 2 columns]\n"
          ]
        }
      ]
    }
  ]
}